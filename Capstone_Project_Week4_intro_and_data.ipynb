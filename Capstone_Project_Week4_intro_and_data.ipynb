{
 "cells": [
  {
   "cell_type": "markdown",
   "metadata": {},
   "source": [
    "# Relocating and house-hunting in Berlin"
   ]
  },
  {
   "cell_type": "markdown",
   "metadata": {},
   "source": [
    "# Introduction"
   ]
  },
  {
   "cell_type": "markdown",
   "metadata": {},
   "source": [
    "Although not an easy decision, nowadays, relocation has never been easier due to help of Internet, various services available online that minimize time for researching and pin pointing perfect location and as per budget affordable place to settle. With data science and available frameworks, libraries, models for fast analysis of city areas, narrowing search as per requirements and desires, people can shorten and prioritize the list of neighbourhoods of interest and find place to live within desired budget.\n"
   ]
  },
  {
   "cell_type": "markdown",
   "metadata": {},
   "source": [
    "To illustrate the problem, I have been living in Zagreb for 20 years of my life, currently working remotely for Berlin based company. To be able to advance in my career, for me it would be necessary to relocate to Berlin, Germany. The question I need to ask myself is where exactly I would like to live in that big city.\n"
   ]
  },
  {
   "cell_type": "markdown",
   "metadata": {},
   "source": [
    "![](https://i.ibb.co/4md00yh/Zg-To-Berlin.png)"
   ]
  },
  {
   "cell_type": "markdown",
   "metadata": {},
   "source": [
    "Berlin is the capital and largest city of Germany by both area and population. More than 3.5 million people are spread across 12 boroughs. Compared to the rest of Germany, the rents for flats are extremely high with trending upwards. Since Berlin is also the largest city by area we will focus to place near to center with higher social places density.\n"
   ]
  },
  {
   "cell_type": "markdown",
   "metadata": {},
   "source": [
    "![](https://i.ibb.co/7vpn0nY/BrlinMap.png)\n",
    "\n",
    "![](https://i.ibb.co/LhfQpDQ/Berlin-Boroughs.png)\n"
   ]
  },
  {
   "cell_type": "markdown",
   "metadata": {},
   "source": [
    "Since I like social places, restaurants, caffees, cinemas, theaters to enjoy new city I would like to find a place, my new neighbourhood, a home in my new city to live in. In order to determine the similarity, I will need to somehow each neighbourhood as a numerical vector then apply some machine learning technique, e.g., DBSCAN, KMeans, to cluster them into different groups.\n"
   ]
  },
  {
   "cell_type": "markdown",
   "metadata": {},
   "source": [
    "Price index of rentals will have a major role in my decision and with desire to go as closer to center as possible we can see on the map price will go higher"
   ]
  },
  {
   "cell_type": "markdown",
   "metadata": {},
   "source": [
    "![](https://i.ibb.co/cFBxkvs/Berlin-Clustered.png)"
   ]
  },
  {
   "cell_type": "markdown",
   "metadata": {},
   "source": [
    "For me, to be happy new \"Berliner\", I will need to tackle both problems, the rents and social places density for the city of Berlin.\n",
    "I will create a map where flat rent index is placed on Berlin and each neighbourhood is clustered according to the venue density. \n",
    "Since square meter prices depend on at sizes, I will examine medium (60m2) and big size (100m2) flats. \n",
    "The map will be helpful for me making decisions in the future.\n"
   ]
  },
  {
   "cell_type": "markdown",
   "metadata": {},
   "source": [
    "# Dataset"
   ]
  },
  {
   "cell_type": "markdown",
   "metadata": {},
   "source": [
    "In order address the mentioned problems, I will use the datasets/ sources listed below. A km2 shape link https://www.statistik-berlin-brandenburg.de/regionales/kleinraumdaten/geometrienOD.asp?Kat=6301 containing a number of administrative areas in Berlin is provided by the statistical office of Berlin and Brandenburg. However, instead of transforming the shape file into GeoJSON format and extract-ing boroughs and boundaries, I will use the github repository of m-hoerz https://github.com/m-hoerz/berlin-shapes which has a GeoJSON file containing names and boundaries of Berlin's 12 boroughs. Thank you m-hoerz! Once borough details are extracted, I will use Google Maps to obtain center coordinates (latitude / longitude ) of each borough. Then, to obtain the most common venues in each bough, I will use Forsquare API. Fortunately, **FourSquare** offers free APIs for developers to access their database of venues. Each venue in their dataset is usually categorized into a venue category, which is described in their [Developers Docs](https://developer.foursquare.com/docs/resources/categories). \n",
    "\n",
    "To obtain the details on flat rentals to get prices for July '19 listed and compared with historical data, I will scrape a platform for renting and buying flats named wohnungsboerse.net. \n",
    "Such data will enable me to create detailed map that:\n",
    "- displays neighbourhoods of Berlin in form of markers and clustered according to venue density\n",
    "- visualizes differences in rents\n"
   ]
  },
  {
   "cell_type": "code",
   "execution_count": null,
   "metadata": {},
   "outputs": [],
   "source": []
  }
 ],
 "metadata": {
  "kernelspec": {
   "display_name": "Python 3",
   "language": "python",
   "name": "python3"
  },
  "language_info": {
   "codemirror_mode": {
    "name": "ipython",
    "version": 3
   },
   "file_extension": ".py",
   "mimetype": "text/x-python",
   "name": "python",
   "nbconvert_exporter": "python",
   "pygments_lexer": "ipython3",
   "version": "3.7.3"
  }
 },
 "nbformat": 4,
 "nbformat_minor": 2
}
